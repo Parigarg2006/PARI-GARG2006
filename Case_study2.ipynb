{
  "nbformat": 4,
  "nbformat_minor": 0,
  "metadata": {
    "colab": {
      "provenance": [],
      "toc_visible": true
    },
    "kernelspec": {
      "name": "python3",
      "display_name": "Python 3"
    },
    "language_info": {
      "name": "python"
    },
    "widgets": {
      "application/vnd.jupyter.widget-state+json": {
        "2f5cc63b5c9f4e3c8447ffeb562d217a": {
          "model_module": "@jupyter-widgets/controls",
          "model_name": "VBoxModel",
          "model_module_version": "1.5.0",
          "state": {
            "_dom_classes": [
              "widget-interact"
            ],
            "_model_module": "@jupyter-widgets/controls",
            "_model_module_version": "1.5.0",
            "_model_name": "VBoxModel",
            "_view_count": null,
            "_view_module": "@jupyter-widgets/controls",
            "_view_module_version": "1.5.0",
            "_view_name": "VBoxView",
            "box_style": "",
            "children": [
              "IPY_MODEL_f8abb9383bb242a998ef2ca090d2d4b3",
              "IPY_MODEL_04d78282721c432e929bcf6fdaa03b05"
            ],
            "layout": "IPY_MODEL_e0648b28865c4bfaa842a2884af4f814"
          }
        },
        "f8abb9383bb242a998ef2ca090d2d4b3": {
          "model_module": "@jupyter-widgets/controls",
          "model_name": "FloatSliderModel",
          "model_module_version": "1.5.0",
          "state": {
            "_dom_classes": [],
            "_model_module": "@jupyter-widgets/controls",
            "_model_module_version": "1.5.0",
            "_model_name": "FloatSliderModel",
            "_view_count": null,
            "_view_module": "@jupyter-widgets/controls",
            "_view_module_version": "1.5.0",
            "_view_name": "FloatSliderView",
            "continuous_update": true,
            "description": "Brightness",
            "description_tooltip": null,
            "disabled": false,
            "layout": "IPY_MODEL_5c5d2ae417664978ae65801bb7a50153",
            "max": 100,
            "min": 0,
            "orientation": "horizontal",
            "readout": true,
            "readout_format": ".2f",
            "step": 1,
            "style": "IPY_MODEL_37d42746e2cb40c3854b6e75eed48a65",
            "value": 55
          }
        },
        "04d78282721c432e929bcf6fdaa03b05": {
          "model_module": "@jupyter-widgets/output",
          "model_name": "OutputModel",
          "model_module_version": "1.0.0",
          "state": {
            "_dom_classes": [],
            "_model_module": "@jupyter-widgets/output",
            "_model_module_version": "1.0.0",
            "_model_name": "OutputModel",
            "_view_count": null,
            "_view_module": "@jupyter-widgets/output",
            "_view_module_version": "1.0.0",
            "_view_name": "OutputView",
            "layout": "IPY_MODEL_0926d77df55b4df59cccad7cac6ee8b7",
            "msg_id": "",
            "outputs": [
              {
                "output_type": "display_data",
                "data": {
                  "text/plain": "<Figure size 200x200 with 1 Axes>",
                  "image/png": "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\n"
                },
                "metadata": {}
              },
              {
                "output_type": "stream",
                "name": "stdout",
                "text": [
                  "Brightness: 55.0%\n"
                ]
              }
            ]
          }
        },
        "e0648b28865c4bfaa842a2884af4f814": {
          "model_module": "@jupyter-widgets/base",
          "model_name": "LayoutModel",
          "model_module_version": "1.2.0",
          "state": {
            "_model_module": "@jupyter-widgets/base",
            "_model_module_version": "1.2.0",
            "_model_name": "LayoutModel",
            "_view_count": null,
            "_view_module": "@jupyter-widgets/base",
            "_view_module_version": "1.2.0",
            "_view_name": "LayoutView",
            "align_content": null,
            "align_items": null,
            "align_self": null,
            "border": null,
            "bottom": null,
            "display": null,
            "flex": null,
            "flex_flow": null,
            "grid_area": null,
            "grid_auto_columns": null,
            "grid_auto_flow": null,
            "grid_auto_rows": null,
            "grid_column": null,
            "grid_gap": null,
            "grid_row": null,
            "grid_template_areas": null,
            "grid_template_columns": null,
            "grid_template_rows": null,
            "height": null,
            "justify_content": null,
            "justify_items": null,
            "left": null,
            "margin": null,
            "max_height": null,
            "max_width": null,
            "min_height": null,
            "min_width": null,
            "object_fit": null,
            "object_position": null,
            "order": null,
            "overflow": null,
            "overflow_x": null,
            "overflow_y": null,
            "padding": null,
            "right": null,
            "top": null,
            "visibility": null,
            "width": null
          }
        },
        "5c5d2ae417664978ae65801bb7a50153": {
          "model_module": "@jupyter-widgets/base",
          "model_name": "LayoutModel",
          "model_module_version": "1.2.0",
          "state": {
            "_model_module": "@jupyter-widgets/base",
            "_model_module_version": "1.2.0",
            "_model_name": "LayoutModel",
            "_view_count": null,
            "_view_module": "@jupyter-widgets/base",
            "_view_module_version": "1.2.0",
            "_view_name": "LayoutView",
            "align_content": null,
            "align_items": null,
            "align_self": null,
            "border": null,
            "bottom": null,
            "display": null,
            "flex": null,
            "flex_flow": null,
            "grid_area": null,
            "grid_auto_columns": null,
            "grid_auto_flow": null,
            "grid_auto_rows": null,
            "grid_column": null,
            "grid_gap": null,
            "grid_row": null,
            "grid_template_areas": null,
            "grid_template_columns": null,
            "grid_template_rows": null,
            "height": null,
            "justify_content": null,
            "justify_items": null,
            "left": null,
            "margin": null,
            "max_height": null,
            "max_width": null,
            "min_height": null,
            "min_width": null,
            "object_fit": null,
            "object_position": null,
            "order": null,
            "overflow": null,
            "overflow_x": null,
            "overflow_y": null,
            "padding": null,
            "right": null,
            "top": null,
            "visibility": null,
            "width": null
          }
        },
        "37d42746e2cb40c3854b6e75eed48a65": {
          "model_module": "@jupyter-widgets/controls",
          "model_name": "SliderStyleModel",
          "model_module_version": "1.5.0",
          "state": {
            "_model_module": "@jupyter-widgets/controls",
            "_model_module_version": "1.5.0",
            "_model_name": "SliderStyleModel",
            "_view_count": null,
            "_view_module": "@jupyter-widgets/base",
            "_view_module_version": "1.2.0",
            "_view_name": "StyleView",
            "description_width": "",
            "handle_color": null
          }
        },
        "0926d77df55b4df59cccad7cac6ee8b7": {
          "model_module": "@jupyter-widgets/base",
          "model_name": "LayoutModel",
          "model_module_version": "1.2.0",
          "state": {
            "_model_module": "@jupyter-widgets/base",
            "_model_module_version": "1.2.0",
            "_model_name": "LayoutModel",
            "_view_count": null,
            "_view_module": "@jupyter-widgets/base",
            "_view_module_version": "1.2.0",
            "_view_name": "LayoutView",
            "align_content": null,
            "align_items": null,
            "align_self": null,
            "border": null,
            "bottom": null,
            "display": null,
            "flex": null,
            "flex_flow": null,
            "grid_area": null,
            "grid_auto_columns": null,
            "grid_auto_flow": null,
            "grid_auto_rows": null,
            "grid_column": null,
            "grid_gap": null,
            "grid_row": null,
            "grid_template_areas": null,
            "grid_template_columns": null,
            "grid_template_rows": null,
            "height": null,
            "justify_content": null,
            "justify_items": null,
            "left": null,
            "margin": null,
            "max_height": null,
            "max_width": null,
            "min_height": null,
            "min_width": null,
            "object_fit": null,
            "object_position": null,
            "order": null,
            "overflow": null,
            "overflow_x": null,
            "overflow_y": null,
            "padding": null,
            "right": null,
            "top": null,
            "visibility": null,
            "width": null
          }
        }
      }
    }
  },
  "cells": [
    {
      "cell_type": "code",
      "execution_count": 7,
      "metadata": {
        "colab": {
          "base_uri": "https://localhost:8080/",
          "height": 663,
          "referenced_widgets": [
            "2f5cc63b5c9f4e3c8447ffeb562d217a",
            "f8abb9383bb242a998ef2ca090d2d4b3",
            "04d78282721c432e929bcf6fdaa03b05",
            "e0648b28865c4bfaa842a2884af4f814",
            "5c5d2ae417664978ae65801bb7a50153",
            "37d42746e2cb40c3854b6e75eed48a65",
            "0926d77df55b4df59cccad7cac6ee8b7"
          ]
        },
        "id": "e9l2W0HtEGPz",
        "outputId": "23242003-9c45-4bc0-c06f-9c7b7816e824"
      },
      "outputs": [
        {
          "output_type": "display_data",
          "data": {
            "text/plain": [
              "<Figure size 640x480 with 2 Axes>"
            ],
            "image/png": "[encoded data removed]"
          },
          "metadata": {}
        },
        {
          "output_type": "display_data",
          "data": {
            "text/plain": [
              "interactive(children=(FloatSlider(value=50.0, description='Brightness', step=1.0), Output()), _dom_classes=('w…"
            ],
            "application/vnd.jupyter.widget-view+json": {
              "version_major": 2,
              "version_minor": 0,
              "model_id": "2f5cc63b5c9f4e3c8447ffeb562d217a"
            }
          },
          "metadata": {}
        }
      ],
      "source": [
        "#LED BRIGHTNESS CONTROL\n",
        "import numpy as np\n",
        "import matplotlib.pyplot as plt\n",
        "#from google.colab import widgets # Removed this import\n",
        "from ipywidgets import interact, IntSlider, FloatSlider # Import FloatSlider from ipywidgets\n",
        "\n",
        "# Simulated LED Brightness Control\n",
        "def led_brightness_control(brightness):\n",
        "    fig, ax = plt.subplots(figsize=(2, 2))\n",
        "    ax.set_facecolor((0, 0, 0))  # Black background\n",
        "    ax.set_xticks([])\n",
        "    ax.set_yticks([])\n",
        "    ax.set_xlim(0, 1)\n",
        "    ax.set_ylim(0, 1)\n",
        "\n",
        "    # LED represented as a circle with brightness\n",
        "    led_color = (1, 1, 0, brightness / 100)  # Yellow LED with alpha transparency\n",
        "    circle = plt.Circle((0.5, 0.5), 0.3, color=led_color)\n",
        "    ax.add_patch(circle)\n",
        "\n",
        "    plt.show()\n",
        "\n",
        "# Create matplotlib figure\n",
        "fig, ax = plt.subplots()\n",
        "plt.subplots_adjust(left=0.1, bottom=0.25)\n",
        "\n",
        "# Add a slider\n",
        "ax_slider = plt.axes([0.1, 0.1, 0.8, 0.05])\n",
        "slider = FloatSlider(min=0, max=100, step=1, value=50, description='Brightness') # Use FloatSlider directly\n",
        "\n",
        "# Update function\n",
        "def update_brightness(val):\n",
        "    led_brightness_control(val)\n",
        "    print(f\"Brightness: {val}%\")\n",
        "\n",
        "# Interactive control\n",
        "interact(update_brightness, val=slider);\n"
      ]
    }
  ]
}